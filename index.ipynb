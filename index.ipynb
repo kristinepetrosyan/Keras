{
 "cells": [
  {
   "cell_type": "markdown",
   "metadata": {},
   "source": [
    "# Keras - Lab\n",
    "\n",
    "## Introduction\n",
    "\n",
    "In this lab you'll once again build a neural network, but this time you will be using Keras to do a lot of the heavy lifting.\n",
    "\n",
    "\n",
    "## Objectives\n",
    "\n",
    "You will be able to:\n",
    "\n",
    "- Build a neural network using Keras \n",
    "- Evaluate performance of a neural network using Keras "
   ]
  },
  {
   "cell_type": "markdown",
   "metadata": {},
   "source": [
    "## Required Packages\n",
    "\n",
    "We'll start by importing all of the required packages and classes."
   ]
  },
  {
   "cell_type": "code",
   "execution_count": 1,
   "metadata": {},
   "outputs": [
    {
     "name": "stderr",
     "output_type": "stream",
     "text": [
      "Using TensorFlow backend.\n"
     ]
    }
   ],
   "source": [
    "import matplotlib.pyplot as plt\n",
    "import pandas as pd\n",
    "import numpy as np\n",
    "import random\n",
    "from sklearn.model_selection import train_test_split\n",
    "from keras.utils.np_utils import to_categorical\n",
    "from sklearn import preprocessing\n",
    "from keras.preprocessing.text import Tokenizer\n",
    "from keras import models\n",
    "from keras import layers\n",
    "from keras import optimizers"
   ]
  },
  {
   "cell_type": "markdown",
   "metadata": {},
   "source": [
    "## Load the data\n",
    "\n",
    "In this lab you will be classifying bank complaints available in the `'Bank_complaints.csv'` file. "
   ]
  },
  {
   "cell_type": "code",
   "execution_count": 3,
   "metadata": {},
   "outputs": [
    {
     "name": "stdout",
     "output_type": "stream",
     "text": [
      "<class 'pandas.core.frame.DataFrame'>\n",
      "RangeIndex: 60000 entries, 0 to 59999\n",
      "Data columns (total 2 columns):\n",
      "Product                         60000 non-null object\n",
      "Consumer complaint narrative    60000 non-null object\n",
      "dtypes: object(2)\n",
      "memory usage: 937.6+ KB\n",
      "None\n"
     ]
    },
    {
     "data": {
      "text/html": [
       "<div>\n",
       "<style scoped>\n",
       "    .dataframe tbody tr th:only-of-type {\n",
       "        vertical-align: middle;\n",
       "    }\n",
       "\n",
       "    .dataframe tbody tr th {\n",
       "        vertical-align: top;\n",
       "    }\n",
       "\n",
       "    .dataframe thead th {\n",
       "        text-align: right;\n",
       "    }\n",
       "</style>\n",
       "<table border=\"1\" class=\"dataframe\">\n",
       "  <thead>\n",
       "    <tr style=\"text-align: right;\">\n",
       "      <th></th>\n",
       "      <th>Product</th>\n",
       "      <th>Consumer complaint narrative</th>\n",
       "    </tr>\n",
       "  </thead>\n",
       "  <tbody>\n",
       "    <tr>\n",
       "      <td>0</td>\n",
       "      <td>Student loan</td>\n",
       "      <td>In XX/XX/XXXX I filled out the Fedlaon applica...</td>\n",
       "    </tr>\n",
       "    <tr>\n",
       "      <td>1</td>\n",
       "      <td>Student loan</td>\n",
       "      <td>I am being contacted by a debt collector for p...</td>\n",
       "    </tr>\n",
       "    <tr>\n",
       "      <td>2</td>\n",
       "      <td>Student loan</td>\n",
       "      <td>I cosigned XXXX student loans at SallieMae for...</td>\n",
       "    </tr>\n",
       "    <tr>\n",
       "      <td>3</td>\n",
       "      <td>Student loan</td>\n",
       "      <td>Navient has sytematically and illegally failed...</td>\n",
       "    </tr>\n",
       "    <tr>\n",
       "      <td>4</td>\n",
       "      <td>Student loan</td>\n",
       "      <td>My wife became eligible for XXXX Loan Forgiven...</td>\n",
       "    </tr>\n",
       "  </tbody>\n",
       "</table>\n",
       "</div>"
      ],
      "text/plain": [
       "        Product                       Consumer complaint narrative\n",
       "0  Student loan  In XX/XX/XXXX I filled out the Fedlaon applica...\n",
       "1  Student loan  I am being contacted by a debt collector for p...\n",
       "2  Student loan  I cosigned XXXX student loans at SallieMae for...\n",
       "3  Student loan  Navient has sytematically and illegally failed...\n",
       "4  Student loan  My wife became eligible for XXXX Loan Forgiven..."
      ]
     },
     "execution_count": 3,
     "metadata": {},
     "output_type": "execute_result"
    }
   ],
   "source": [
    "# Import data\n",
    "df = pd.read_csv('Bank_complaints.csv')\n",
    "\n",
    "# Inspect data\n",
    "print(df.info())\n",
    "df.head()"
   ]
  },
  {
   "cell_type": "markdown",
   "metadata": {},
   "source": [
    "As mentioned earlier, your task is to categorize banking complaints into various predefined categories. Preview what these categories are and what percent of the complaints each accounts for. "
   ]
  },
  {
   "cell_type": "code",
   "execution_count": 4,
   "metadata": {},
   "outputs": [
    {
     "data": {
      "text/plain": [
       "Student loan                   0.190067\n",
       "Credit card                    0.159000\n",
       "Consumer Loan                  0.157900\n",
       "Mortgage                       0.138867\n",
       "Bank account or service        0.138483\n",
       "Credit reporting               0.114400\n",
       "Checking or savings account    0.101283\n",
       "Name: Product, dtype: float64"
      ]
     },
     "execution_count": 4,
     "metadata": {},
     "output_type": "execute_result"
    }
   ],
   "source": [
    "# Your code here\n",
    "df['Product'].value_counts(normalize=True)"
   ]
  },
  {
   "cell_type": "markdown",
   "metadata": {},
   "source": [
    "## Preprocessing\n",
    "\n",
    "Before we build our neural network, we need to do several preprocessing steps. First, we will create word vector counts (a bag of words type representation) of our complaints text. Next, we will change the category labels to integers. Finally, we will perform our usual train-test split before building and training our neural network using Keras. With that, let's start munging our data! \n",
    "\n",
    "## One-hot encoding of the complaints\n",
    "\n",
    "Our first step again is to transform our textual data into a numerical representation. As we saw in some of our previous lessons on NLP, there are many ways to do this. Here, we'll use the `Tokenizer()` class from the `preprocessing.text` sub-module of the Keras package.   \n",
    "\n",
    "As with our previous work using NLTK, this will transform our text complaints into word vectors. (Note that the method of creating a vector is different from our previous work with NLTK; as you'll see, word order will be preserved as opposed to a bag of words representation). In the below code, we'll only keep the 2,000 most common words and use one-hot encoding. \n",
    "\n"
   ]
  },
  {
   "cell_type": "code",
   "execution_count": 5,
   "metadata": {},
   "outputs": [],
   "source": [
    "# As a quick preliminary, briefly review the docstring for keras.preprocessing.text.Tokenizer\n",
    "Tokenizer?"
   ]
  },
  {
   "cell_type": "code",
   "execution_count": 6,
   "metadata": {},
   "outputs": [
    {
     "name": "stdout",
     "output_type": "stream",
     "text": [
      "sequences type: <class 'list'>\n",
      "one_hot_results type: <class 'numpy.ndarray'>\n",
      "Found 50110 unique tokens.\n",
      "Dimensions of our coded results: (60000, 2000)\n"
     ]
    }
   ],
   "source": [
    "# ⏰ This cell may take about thirty seconds to run\n",
    "\n",
    "# Raw text complaints\n",
    "complaints = df['Consumer complaint narrative'] \n",
    "\n",
    "# Initialize a tokenizer \n",
    "tokenizer = Tokenizer(num_words=2000) \n",
    "\n",
    "# Fit it to the complaints\n",
    "tokenizer.fit_on_texts(complaints) \n",
    "\n",
    "# Generate sequences\n",
    "sequences = tokenizer.texts_to_sequences(complaints) \n",
    "print('sequences type:', type(sequences))\n",
    "\n",
    "# Similar to sequences, but returns a numpy array\n",
    "one_hot_results= tokenizer.texts_to_matrix(complaints, mode='binary') \n",
    "print('one_hot_results type:', type(one_hot_results))\n",
    "\n",
    "# Useful if we wish to decode (more explanation below)\n",
    "word_index = tokenizer.word_index \n",
    "\n",
    "# Tokens are the number of unique words across the corpus\n",
    "print('Found %s unique tokens.' % len(word_index)) \n",
    "\n",
    "# Our coded data\n",
    "print('Dimensions of our coded results:', np.shape(one_hot_results)) "
   ]
  },
  {
   "cell_type": "markdown",
   "metadata": {},
   "source": [
    "## Decoding Word Vectors \n",
    "\n",
    "As a note, you can also decode these vectorized representations of the reviews. The `word_index` variable, defined above, stores the mapping from the label number to the actual word. Somewhat tediously, we can turn this dictionary inside out and map it back to our word vectors, giving us roughly the original complaint back. (As you'll see, the text won't be identical as we limited ourselves to top 2000 words.)\n",
    "\n",
    "## Python Review / Mini Challenge\n",
    "\n",
    "While a bit tangential to our main topic of interest, we need to reverse our current dictionary `word_index` which maps words from our corpus to integers. In decoding our `one_hot_results`, we will need to create a dictionary of these integers to the original words. Below, take the `word_index` dictionary object and change the orientation so that the values are keys and the keys values. In other words, you are transforming something of the form {A:1, B:2, C:3} to {1:A, 2:B, 3:C}. "
   ]
  },
  {
   "cell_type": "code",
   "execution_count": 8,
   "metadata": {},
   "outputs": [],
   "source": [
    "# Your code here\n",
    "reverse_index = dict([(value, key) for (key,value) in word_index.items()])"
   ]
  },
  {
   "cell_type": "markdown",
   "metadata": {},
   "source": [
    "## Back to Decoding Our Word Vectors..."
   ]
  },
  {
   "cell_type": "code",
   "execution_count": 9,
   "metadata": {},
   "outputs": [
    {
     "name": "stdout",
     "output_type": "stream",
     "text": [
      "Original complaint text:\n",
      "I have already filed several complaints about AES/PHEAA. I was notified by a XXXX XXXX let @ XXXX, who pretended to be from your office, he said he was from CFPB. I found out this morning he is n't from your office, but is actually works at XXXX. \n",
      "\n",
      "This has wasted weeks of my time. They AES/PHEAA confirmed and admitted ( see attached transcript of XXXX, conversation at XXXX ( XXXX ) with XXXX that proves they verified the loans are not mine ) the student loans they had XXXX, and collected on, and reported negate credit reporting in my name are in fact, not mine. \n",
      "They conclued their investigation on XXXX admitting they made a mistake and have my name on soneone elses loans. I these XXXX loans total {$10000.00}, original amount. My XXXX loans I got was total {$3500.00}. We proved by providing AES/PHEAA, this with my original promissary notes I located recently, the XXXX of my college provided AES/PHEAA with their original shoeinf amounts of my XXXX loans which show different dates and amounts, the dates and amounts are not even close to matching these loans they have in my name, The original lender, XXXX XXXX Bank notifying AES/PHEAA, they never issued me a student loan, and original Loan Guarantor, XXXX, notifying AES/PHEAA, they never were guarantor of my loans. \n",
      "\n",
      "XXXX straight forward. But today, this person, XXXX XXXX, told me they know these loans are not mine, and they refuse to remove my name off these XXXX loan 's and correct their mistake, essentially forcing me to pay these loans off, bucause in XXXX they sold the loans to XXXX loans. \n",
      "\n",
      "This is absurd, first protruding to be this office, and then refusing to correct their mistake. \n",
      "\n",
      "Please for the love of XXXX will soneone from your office call me at XXXX, today. I am a XXXX vet and they are knowingly discriminating against me. \n",
      "Pretending to be you.\n",
      "\n",
      "\n",
      "\n",
      "Decoded review from Tokenizer:\n",
      "i have already filed several complaints about aes i was notified by a xxxx xxxx let xxxx who to be from your office he said he was from cfpb i found out this morning he is n't from your office but is actually works at xxxx this has weeks of my time they aes confirmed and admitted see attached of xxxx conversation at xxxx xxxx with xxxx that they verified the loans are not mine the student loans they had xxxx and on and reported credit reporting in my name are in fact not mine they their investigation on xxxx they made a mistake and have my name on loans i these xxxx loans total 10000 00 original amount my xxxx loans i got was total 00 we by providing aes this with my original notes i located recently the xxxx of my college provided aes with their original amounts of my xxxx loans which show different dates and amounts the dates and amounts are not even close to these loans they have in my name the original lender xxxx xxxx bank notifying aes they never issued me a student loan and original loan xxxx notifying aes they never were of my loans xxxx forward but today this person xxxx xxxx told me they know these loans are not mine and they refuse to remove my name off these xxxx loan 's and correct their mistake essentially me to pay these loans off in xxxx they sold the loans to xxxx loans this is first to be this office and then refusing to correct their mistake please for the of xxxx will from your office call me at xxxx today i am a xxxx and they are against me to be you\n"
     ]
    }
   ],
   "source": [
    "comment_idx_to_preview = 19\n",
    "print('Original complaint text:')\n",
    "print(complaints[comment_idx_to_preview])\n",
    "print('\\n\\n')\n",
    "\n",
    "# The reverse_index cell block above must be complete in order for this cell block to successively execute \n",
    "decoded_review = ' '.join([reverse_index.get(i) for i in sequences[comment_idx_to_preview]])\n",
    "print('Decoded review from Tokenizer:')\n",
    "print(decoded_review)"
   ]
  },
  {
   "cell_type": "markdown",
   "metadata": {},
   "source": [
    "## Convert the Products to Numerical Categories\n",
    "\n",
    "On to step two of our preprocessing: converting our descriptive categories into integers."
   ]
  },
  {
   "cell_type": "code",
   "execution_count": 10,
   "metadata": {},
   "outputs": [
    {
     "name": "stdout",
     "output_type": "stream",
     "text": [
      "Original class labels:\n",
      "['Bank account or service', 'Checking or savings account', 'Consumer Loan', 'Credit card', 'Credit reporting', 'Mortgage', 'Student loan']\n",
      "\n",
      "\n",
      "New product labels:\n",
      "[6 6 6 ... 4 4 4]\n",
      "\n",
      "\n",
      "One hot labels; 7 binary columns, one for each of the categories.\n",
      "[[0. 0. 0. ... 0. 0. 1.]\n",
      " [0. 0. 0. ... 0. 0. 1.]\n",
      " [0. 0. 0. ... 0. 0. 1.]\n",
      " ...\n",
      " [0. 0. 0. ... 1. 0. 0.]\n",
      " [0. 0. 0. ... 1. 0. 0.]\n",
      " [0. 0. 0. ... 1. 0. 0.]]\n",
      "\n",
      "\n",
      "One hot labels shape:\n",
      "(60000, 7)\n"
     ]
    }
   ],
   "source": [
    "product = df['Product']\n",
    "\n",
    "# Initialize\n",
    "le = preprocessing.LabelEncoder() \n",
    "le.fit(product)\n",
    "print('Original class labels:')\n",
    "print(list(le.classes_))\n",
    "print('\\n')\n",
    "product_cat = le.transform(product)  \n",
    "\n",
    "# If you wish to retrieve the original descriptive labels post production\n",
    "# list(le.inverse_transform([0, 1, 3, 3, 0, 6, 4])) \n",
    "\n",
    "print('New product labels:')\n",
    "print(product_cat)\n",
    "print('\\n')\n",
    "\n",
    "# Each row will be all zeros except for the category for that observation \n",
    "print('One hot labels; 7 binary columns, one for each of the categories.') \n",
    "product_onehot = to_categorical(product_cat)\n",
    "print(product_onehot)\n",
    "print('\\n')\n",
    "\n",
    "print('One hot labels shape:')\n",
    "print(np.shape(product_onehot))"
   ]
  },
  {
   "cell_type": "markdown",
   "metadata": {},
   "source": [
    "## Train-test split\n",
    "\n",
    "Now for our final preprocessing step: the usual train-test split. "
   ]
  },
  {
   "cell_type": "code",
   "execution_count": 11,
   "metadata": {},
   "outputs": [
    {
     "name": "stdout",
     "output_type": "stream",
     "text": [
      "Test label shape: (1500, 7)\n",
      "Train label shape: (58500, 7)\n",
      "Test shape: (1500, 2000)\n",
      "Train shape: (58500, 2000)\n"
     ]
    }
   ],
   "source": [
    "random.seed(123)\n",
    "test_index = random.sample(range(1,10000), 1500)\n",
    "\n",
    "test = one_hot_results[test_index]\n",
    "train = np.delete(one_hot_results, test_index, 0)\n",
    "\n",
    "label_test = product_onehot[test_index]\n",
    "label_train = np.delete(product_onehot, test_index, 0)\n",
    "\n",
    "print('Test label shape:', np.shape(label_test))\n",
    "print('Train label shape:', np.shape(label_train))\n",
    "print('Test shape:', np.shape(test))\n",
    "print('Train shape:', np.shape(train))"
   ]
  },
  {
   "cell_type": "markdown",
   "metadata": {},
   "source": [
    "## Building the network\n",
    "\n",
    "Let's build a fully connected (Dense) layer network with relu activation in Keras. You can do this using: `Dense(16, activation='relu')`. \n",
    "\n",
    "In this example, use two hidden layers with 50 units in the first layer and 25 in the second, both with a `'relu'` activation function. Because we are dealing with a multiclass problem (classifying the complaints into 7 categories), we use a use a `'softmax'` classifier in order to output 7 class probabilities per case.  "
   ]
  },
  {
   "cell_type": "code",
   "execution_count": 12,
   "metadata": {},
   "outputs": [],
   "source": [
    "# Initialize a sequential model\n",
    "model = models.Sequential()\n",
    "\n",
    "# Two layers with relu activation\n",
    "model.add(layers.Dense(50, activation='relu', input_shape=(2000,)))\n",
    "model.add(layers.Dense(25, activation='relu'))\n",
    "\n",
    "# One layer with softmax activation \n",
    "model.add(layers.Dense(7, activation = 'softmax'))"
   ]
  },
  {
   "cell_type": "markdown",
   "metadata": {},
   "source": [
    "## Compiling the model\n",
    "\n",
    "Now, compile the model! This time, use `'categorical_crossentropy'` as the loss function and stochastic gradient descent, `'SGD'` as the optimizer. As in the previous lesson, include the accuracy as a metric."
   ]
  },
  {
   "cell_type": "code",
   "execution_count": 13,
   "metadata": {},
   "outputs": [],
   "source": [
    "# Compile the model\n",
    "model.compile(optimizer='SGD', loss='categorical_crossentropy', metrics=['accuracy'])"
   ]
  },
  {
   "cell_type": "markdown",
   "metadata": {},
   "source": [
    "## Training the model\n",
    "\n",
    "In the compiler, you'll be passing the optimizer (SGD = stochastic gradient descent), loss function, and metrics. Train the model for 120 epochs in mini-batches of 256 samples.\n",
    "\n",
    "_Note:_ ⏰ _Your code may take about one to two minutes to run._"
   ]
  },
  {
   "cell_type": "code",
   "execution_count": 14,
   "metadata": {},
   "outputs": [
    {
     "name": "stdout",
     "output_type": "stream",
     "text": [
      "Epoch 1/120\n",
      "58500/58500 [==============================] - 1s 24us/step - loss: 1.9107 - acc: 0.1881\n",
      "Epoch 2/120\n",
      "58500/58500 [==============================] - 1s 21us/step - loss: 1.7719 - acc: 0.3026\n",
      "Epoch 3/120\n",
      "58500/58500 [==============================] - 1s 21us/step - loss: 1.4979 - acc: 0.5083\n",
      "Epoch 4/120\n",
      "58500/58500 [==============================] - 1s 24us/step - loss: 1.1754 - acc: 0.6419\n",
      "Epoch 5/120\n",
      "58500/58500 [==============================] - 1s 22us/step - loss: 0.9457 - acc: 0.6968\n",
      "Epoch 6/120\n",
      "58500/58500 [==============================] - 1s 20us/step - loss: 0.8140 - acc: 0.7243\n",
      "Epoch 7/120\n",
      "58500/58500 [==============================] - 1s 21us/step - loss: 0.7387 - acc: 0.7394\n",
      "Epoch 8/120\n",
      "58500/58500 [==============================] - 1s 21us/step - loss: 0.6915 - acc: 0.7512\n",
      "Epoch 9/120\n",
      "58500/58500 [==============================] - 1s 21us/step - loss: 0.6587 - acc: 0.7613\n",
      "Epoch 10/120\n",
      "58500/58500 [==============================] - 1s 20us/step - loss: 0.6339 - acc: 0.7685\n",
      "Epoch 11/120\n",
      "58500/58500 [==============================] - 1s 20us/step - loss: 0.6144 - acc: 0.7754\n",
      "Epoch 12/120\n",
      "58500/58500 [==============================] - 1s 20us/step - loss: 0.5978 - acc: 0.7822\n",
      "Epoch 13/120\n",
      "58500/58500 [==============================] - 1s 20us/step - loss: 0.5835 - acc: 0.7870\n",
      "Epoch 14/120\n",
      "58500/58500 [==============================] - 1s 20us/step - loss: 0.5714 - acc: 0.7919\n",
      "Epoch 15/120\n",
      "58500/58500 [==============================] - 1s 20us/step - loss: 0.5602 - acc: 0.7965\n",
      "Epoch 16/120\n",
      "58500/58500 [==============================] - 1s 20us/step - loss: 0.5504 - acc: 0.8000\n",
      "Epoch 17/120\n",
      "58500/58500 [==============================] - 1s 20us/step - loss: 0.5412 - acc: 0.8032\n",
      "Epoch 18/120\n",
      "58500/58500 [==============================] - 1s 20us/step - loss: 0.5330 - acc: 0.8064\n",
      "Epoch 19/120\n",
      "58500/58500 [==============================] - 1s 22us/step - loss: 0.5253 - acc: 0.8090\n",
      "Epoch 20/120\n",
      "58500/58500 [==============================] - 1s 23us/step - loss: 0.5183 - acc: 0.8135\n",
      "Epoch 21/120\n",
      "58500/58500 [==============================] - 1s 21us/step - loss: 0.5117 - acc: 0.8158\n",
      "Epoch 22/120\n",
      "58500/58500 [==============================] - 1s 22us/step - loss: 0.5058 - acc: 0.8179\n",
      "Epoch 23/120\n",
      "58500/58500 [==============================] - 1s 21us/step - loss: 0.4996 - acc: 0.8206\n",
      "Epoch 24/120\n",
      "58500/58500 [==============================] - 1s 22us/step - loss: 0.4945 - acc: 0.8220\n",
      "Epoch 25/120\n",
      "58500/58500 [==============================] - 1s 22us/step - loss: 0.4891 - acc: 0.8243\n",
      "Epoch 26/120\n",
      "58500/58500 [==============================] - 1s 25us/step - loss: 0.4843 - acc: 0.8263\n",
      "Epoch 27/120\n",
      "58500/58500 [==============================] - 1s 24us/step - loss: 0.4797 - acc: 0.8288\n",
      "Epoch 28/120\n",
      "58500/58500 [==============================] - 1s 22us/step - loss: 0.4752 - acc: 0.8304\n",
      "Epoch 29/120\n",
      "58500/58500 [==============================] - 1s 21us/step - loss: 0.4712 - acc: 0.8312\n",
      "Epoch 30/120\n",
      "58500/58500 [==============================] - 1s 21us/step - loss: 0.4671 - acc: 0.8323\n",
      "Epoch 31/120\n",
      "58500/58500 [==============================] - 1s 20us/step - loss: 0.4634 - acc: 0.8343\n",
      "Epoch 32/120\n",
      "58500/58500 [==============================] - 1s 20us/step - loss: 0.4598 - acc: 0.8358\n",
      "Epoch 33/120\n",
      "58500/58500 [==============================] - 1s 22us/step - loss: 0.4562 - acc: 0.8371\n",
      "Epoch 34/120\n",
      "58500/58500 [==============================] - 1s 20us/step - loss: 0.4530 - acc: 0.8386\n",
      "Epoch 35/120\n",
      "58500/58500 [==============================] - 1s 20us/step - loss: 0.4497 - acc: 0.8399\n",
      "Epoch 36/120\n",
      "58500/58500 [==============================] - 1s 20us/step - loss: 0.4467 - acc: 0.8415\n",
      "Epoch 37/120\n",
      "58500/58500 [==============================] - 1s 20us/step - loss: 0.4439 - acc: 0.8429\n",
      "Epoch 38/120\n",
      "58500/58500 [==============================] - 1s 21us/step - loss: 0.4409 - acc: 0.8431\n",
      "Epoch 39/120\n",
      "58500/58500 [==============================] - 1s 20us/step - loss: 0.4384 - acc: 0.8449\n",
      "Epoch 40/120\n",
      "58500/58500 [==============================] - 1s 20us/step - loss: 0.4354 - acc: 0.8458\n",
      "Epoch 41/120\n",
      "58500/58500 [==============================] - 1s 20us/step - loss: 0.4330 - acc: 0.8467\n",
      "Epoch 42/120\n",
      "58500/58500 [==============================] - 1s 20us/step - loss: 0.4305 - acc: 0.8475\n",
      "Epoch 43/120\n",
      "58500/58500 [==============================] - 1s 20us/step - loss: 0.4281 - acc: 0.8490\n",
      "Epoch 44/120\n",
      "58500/58500 [==============================] - 1s 20us/step - loss: 0.4261 - acc: 0.8499\n",
      "Epoch 45/120\n",
      "58500/58500 [==============================] - 1s 20us/step - loss: 0.4235 - acc: 0.8510\n",
      "Epoch 46/120\n",
      "58500/58500 [==============================] - 1s 20us/step - loss: 0.4212 - acc: 0.8512\n",
      "Epoch 47/120\n",
      "58500/58500 [==============================] - 1s 20us/step - loss: 0.4190 - acc: 0.8521\n",
      "Epoch 48/120\n",
      "58500/58500 [==============================] - 1s 20us/step - loss: 0.4171 - acc: 0.8529\n",
      "Epoch 49/120\n",
      "58500/58500 [==============================] - 1s 20us/step - loss: 0.4150 - acc: 0.8543\n",
      "Epoch 50/120\n",
      "58500/58500 [==============================] - 1s 20us/step - loss: 0.4133 - acc: 0.8549\n",
      "Epoch 51/120\n",
      "58500/58500 [==============================] - 1s 20us/step - loss: 0.4111 - acc: 0.8542\n",
      "Epoch 52/120\n",
      "58500/58500 [==============================] - 1s 20us/step - loss: 0.4093 - acc: 0.8560\n",
      "Epoch 53/120\n",
      "58500/58500 [==============================] - 1s 20us/step - loss: 0.4076 - acc: 0.8563\n",
      "Epoch 54/120\n",
      "58500/58500 [==============================] - 1s 19us/step - loss: 0.4057 - acc: 0.8563\n",
      "Epoch 55/120\n",
      "58500/58500 [==============================] - 1s 19us/step - loss: 0.4039 - acc: 0.8574\n",
      "Epoch 56/120\n",
      "58500/58500 [==============================] - 1s 20us/step - loss: 0.4023 - acc: 0.8581\n",
      "Epoch 57/120\n",
      "58500/58500 [==============================] - 1s 20us/step - loss: 0.4005 - acc: 0.8585\n",
      "Epoch 58/120\n",
      "58500/58500 [==============================] - 1s 20us/step - loss: 0.3993 - acc: 0.8595\n",
      "Epoch 59/120\n",
      "58500/58500 [==============================] - 1s 19us/step - loss: 0.3973 - acc: 0.8596\n",
      "Epoch 60/120\n",
      "58500/58500 [==============================] - 1s 19us/step - loss: 0.3959 - acc: 0.8602\n",
      "Epoch 61/120\n",
      "58500/58500 [==============================] - 1s 19us/step - loss: 0.3944 - acc: 0.8605\n",
      "Epoch 62/120\n",
      "58500/58500 [==============================] - 1s 19us/step - loss: 0.3928 - acc: 0.8611\n",
      "Epoch 63/120\n",
      "58500/58500 [==============================] - 1s 20us/step - loss: 0.3912 - acc: 0.8611\n",
      "Epoch 64/120\n",
      "58500/58500 [==============================] - 1s 19us/step - loss: 0.3902 - acc: 0.8618\n",
      "Epoch 65/120\n",
      "58500/58500 [==============================] - 1s 20us/step - loss: 0.3888 - acc: 0.8619\n",
      "Epoch 66/120\n",
      "58500/58500 [==============================] - 1s 19us/step - loss: 0.3872 - acc: 0.8630\n",
      "Epoch 67/120\n",
      "58500/58500 [==============================] - 1s 19us/step - loss: 0.3858 - acc: 0.8633\n",
      "Epoch 68/120\n",
      "58500/58500 [==============================] - 1s 19us/step - loss: 0.3842 - acc: 0.8644\n",
      "Epoch 69/120\n",
      "58500/58500 [==============================] - 1s 19us/step - loss: 0.3834 - acc: 0.8634\n",
      "Epoch 70/120\n",
      "58500/58500 [==============================] - 1s 19us/step - loss: 0.3821 - acc: 0.8644\n",
      "Epoch 71/120\n",
      "58500/58500 [==============================] - 1s 19us/step - loss: 0.3804 - acc: 0.8651\n",
      "Epoch 72/120\n",
      "58500/58500 [==============================] - 1s 20us/step - loss: 0.3794 - acc: 0.8656\n",
      "Epoch 73/120\n",
      "58500/58500 [==============================] - 1s 20us/step - loss: 0.3782 - acc: 0.8658\n",
      "Epoch 74/120\n",
      "58500/58500 [==============================] - 1s 19us/step - loss: 0.3768 - acc: 0.8666\n",
      "Epoch 75/120\n",
      "58500/58500 [==============================] - 1s 19us/step - loss: 0.3759 - acc: 0.8666\n",
      "Epoch 76/120\n",
      "58500/58500 [==============================] - 1s 20us/step - loss: 0.3746 - acc: 0.8674\n",
      "Epoch 77/120\n",
      "58500/58500 [==============================] - 1s 19us/step - loss: 0.3736 - acc: 0.8679\n",
      "Epoch 78/120\n",
      "58500/58500 [==============================] - 1s 19us/step - loss: 0.3724 - acc: 0.8679\n",
      "Epoch 79/120\n",
      "58500/58500 [==============================] - 1s 19us/step - loss: 0.3711 - acc: 0.8683\n",
      "Epoch 80/120\n",
      "58500/58500 [==============================] - 1s 20us/step - loss: 0.3699 - acc: 0.8684\n",
      "Epoch 81/120\n"
     ]
    },
    {
     "name": "stdout",
     "output_type": "stream",
     "text": [
      "58500/58500 [==============================] - 1s 20us/step - loss: 0.3694 - acc: 0.8688\n",
      "Epoch 82/120\n",
      "58500/58500 [==============================] - 1s 20us/step - loss: 0.3678 - acc: 0.8696\n",
      "Epoch 83/120\n",
      "58500/58500 [==============================] - 1s 20us/step - loss: 0.3672 - acc: 0.8698\n",
      "Epoch 84/120\n",
      "58500/58500 [==============================] - 1s 19us/step - loss: 0.3657 - acc: 0.8701\n",
      "Epoch 85/120\n",
      "58500/58500 [==============================] - 1s 19us/step - loss: 0.3649 - acc: 0.8707\n",
      "Epoch 86/120\n",
      "58500/58500 [==============================] - 1s 19us/step - loss: 0.3636 - acc: 0.8709\n",
      "Epoch 87/120\n",
      "58500/58500 [==============================] - 1s 19us/step - loss: 0.3622 - acc: 0.8716\n",
      "Epoch 88/120\n",
      "58500/58500 [==============================] - 1s 19us/step - loss: 0.3613 - acc: 0.8706\n",
      "Epoch 89/120\n",
      "58500/58500 [==============================] - 1s 19us/step - loss: 0.3605 - acc: 0.8725\n",
      "Epoch 90/120\n",
      "58500/58500 [==============================] - 1s 19us/step - loss: 0.3599 - acc: 0.8723\n",
      "Epoch 91/120\n",
      "58500/58500 [==============================] - 1s 19us/step - loss: 0.3587 - acc: 0.8729\n",
      "Epoch 92/120\n",
      "58500/58500 [==============================] - 1s 20us/step - loss: 0.3576 - acc: 0.8729\n",
      "Epoch 93/120\n",
      "58500/58500 [==============================] - 1s 20us/step - loss: 0.3568 - acc: 0.8742\n",
      "Epoch 94/120\n",
      "58500/58500 [==============================] - 1s 20us/step - loss: 0.3555 - acc: 0.8736\n",
      "Epoch 95/120\n",
      "58500/58500 [==============================] - 1s 23us/step - loss: 0.3545 - acc: 0.8744\n",
      "Epoch 96/120\n",
      "58500/58500 [==============================] - 1s 25us/step - loss: 0.3540 - acc: 0.8743\n",
      "Epoch 97/120\n",
      "58500/58500 [==============================] - 1s 23us/step - loss: 0.3528 - acc: 0.8752\n",
      "Epoch 98/120\n",
      "58500/58500 [==============================] - 1s 24us/step - loss: 0.3517 - acc: 0.8755\n",
      "Epoch 99/120\n",
      "58500/58500 [==============================] - 1s 22us/step - loss: 0.3512 - acc: 0.8756\n",
      "Epoch 100/120\n",
      "58500/58500 [==============================] - 1s 21us/step - loss: 0.3501 - acc: 0.8757\n",
      "Epoch 101/120\n",
      "58500/58500 [==============================] - 1s 21us/step - loss: 0.3489 - acc: 0.8771\n",
      "Epoch 102/120\n",
      "58500/58500 [==============================] - 1s 20us/step - loss: 0.3482 - acc: 0.8764\n",
      "Epoch 103/120\n",
      "58500/58500 [==============================] - 1s 20us/step - loss: 0.3473 - acc: 0.8761\n",
      "Epoch 104/120\n",
      "58500/58500 [==============================] - 1s 20us/step - loss: 0.3464 - acc: 0.8771\n",
      "Epoch 105/120\n",
      "58500/58500 [==============================] - 1s 20us/step - loss: 0.3457 - acc: 0.8769\n",
      "Epoch 106/120\n",
      "58500/58500 [==============================] - 1s 20us/step - loss: 0.3449 - acc: 0.8777\n",
      "Epoch 107/120\n",
      "58500/58500 [==============================] - 1s 20us/step - loss: 0.3436 - acc: 0.8781\n",
      "Epoch 108/120\n",
      "58500/58500 [==============================] - 1s 20us/step - loss: 0.3427 - acc: 0.8785: 0s - loss: 0.3406 -\n",
      "Epoch 109/120\n",
      "58500/58500 [==============================] - 1s 20us/step - loss: 0.3419 - acc: 0.8789\n",
      "Epoch 110/120\n",
      "58500/58500 [==============================] - 1s 20us/step - loss: 0.3413 - acc: 0.8792\n",
      "Epoch 111/120\n",
      "58500/58500 [==============================] - 1s 21us/step - loss: 0.3405 - acc: 0.8796\n",
      "Epoch 112/120\n",
      "58500/58500 [==============================] - 1s 20us/step - loss: 0.3396 - acc: 0.8797\n",
      "Epoch 113/120\n",
      "58500/58500 [==============================] - 1s 20us/step - loss: 0.3389 - acc: 0.8802\n",
      "Epoch 114/120\n",
      "58500/58500 [==============================] - 1s 20us/step - loss: 0.3378 - acc: 0.8805\n",
      "Epoch 115/120\n",
      "58500/58500 [==============================] - 1s 20us/step - loss: 0.3369 - acc: 0.8803\n",
      "Epoch 116/120\n",
      "58500/58500 [==============================] - 1s 20us/step - loss: 0.3360 - acc: 0.8802\n",
      "Epoch 117/120\n",
      "58500/58500 [==============================] - 1s 20us/step - loss: 0.3355 - acc: 0.8813\n",
      "Epoch 118/120\n",
      "58500/58500 [==============================] - 1s 20us/step - loss: 0.3344 - acc: 0.8808\n",
      "Epoch 119/120\n",
      "58500/58500 [==============================] - 1s 20us/step - loss: 0.3333 - acc: 0.8815\n",
      "Epoch 120/120\n",
      "58500/58500 [==============================] - 1s 20us/step - loss: 0.3327 - acc: 0.8822\n"
     ]
    }
   ],
   "source": [
    "# Train the model \n",
    "history = model.fit(train, label_train, epochs=120, batch_size=256)"
   ]
  },
  {
   "cell_type": "markdown",
   "metadata": {},
   "source": [
    "Recall that the dictionary `history` has two entries: the loss and the accuracy achieved using the training set."
   ]
  },
  {
   "cell_type": "code",
   "execution_count": 15,
   "metadata": {},
   "outputs": [
    {
     "data": {
      "text/plain": [
       "dict_keys(['loss', 'acc'])"
      ]
     },
     "execution_count": 15,
     "metadata": {},
     "output_type": "execute_result"
    }
   ],
   "source": [
    "history_dict = history.history\n",
    "history_dict.keys()"
   ]
  },
  {
   "cell_type": "markdown",
   "metadata": {},
   "source": [
    "## Plot the results\n",
    "\n",
    "As you might expect, we'll use our `matplotlib` for graphing. Use the data stored in the `history_dict` above to plot the loss vs epochs and the accuracy vs epochs. "
   ]
  },
  {
   "cell_type": "code",
   "execution_count": 16,
   "metadata": {},
   "outputs": [
    {
     "data": {
      "image/png": "[encoded data removed]",
      "text/plain": [
       "<Figure size 432x288 with 1 Axes>"
      ]
     },
     "metadata": {
      "needs_background": "light"
     },
     "output_type": "display_data"
    }
   ],
   "source": [
    "# Plot the loss vs the number of epoch\n",
    "history_dict = history.history\n",
    "loss_values=history_dict['loss']\n",
    "\n",
    "epochs = range(1, len(loss_values) + 1)\n",
    "plt.plot(epochs, loss_values, 'g', label='Training loss')\n",
    "\n",
    "plt.title('Training loss')\n",
    "plt.xlabel('Epochs')\n",
    "plt.ylabel('Loss')\n",
    "plt.legend()\n",
    "plt.show()"
   ]
  },
  {
   "cell_type": "code",
   "execution_count": 18,
   "metadata": {},
   "outputs": [
    {
     "data": {
      "image/png": "[encoded data removed]",
      "text/plain": [
       "<Figure size 432x288 with 1 Axes>"
      ]
     },
     "metadata": {
      "needs_background": "light"
     },
     "output_type": "display_data"
    }
   ],
   "source": [
    "# Plot the training accuracy vs the number of epochs\n",
    "acc_values = history_dict['acc']\n",
    "\n",
    "plt.plot(epochs, acc_values, 'r', label='Training acc')\n",
    "plt.title('Training accuracy')\n",
    "plt.xlabel('Epochs')\n",
    "plt.ylabel('Loss')\n",
    "plt.legend()\n",
    "plt.show()"
   ]
  },
  {
   "cell_type": "markdown",
   "metadata": {},
   "source": [
    "It seems like we could just keep on going and accuracy would go up!"
   ]
  },
  {
   "cell_type": "markdown",
   "metadata": {},
   "source": [
    "## Make predictions\n",
    "\n",
    "Finally, it's time to make predictions. Use the relevant method discussed in the previous lesson to output (probability) predictions for the test set."
   ]
  },
  {
   "cell_type": "code",
   "execution_count": 19,
   "metadata": {},
   "outputs": [],
   "source": [
    "# Output (probability) predictions for the test set \n",
    "y_hat_test = model.predict(test)"
   ]
  },
  {
   "cell_type": "markdown",
   "metadata": {},
   "source": [
    "## Evaluate Performance\n",
    "\n",
    "Finally, print the loss and accuracy for both the train and test sets of the final trained model."
   ]
  },
  {
   "cell_type": "code",
   "execution_count": 20,
   "metadata": {},
   "outputs": [
    {
     "name": "stdout",
     "output_type": "stream",
     "text": [
      "58500/58500 [==============================] - 1s 22us/step\n"
     ]
    },
    {
     "data": {
      "text/plain": [
       "[0.332705478065289, 0.880034188034188]"
      ]
     },
     "execution_count": 20,
     "metadata": {},
     "output_type": "execute_result"
    }
   ],
   "source": [
    "# Print the loss and accuracy for the training set \n",
    "results_train = model.evaluate(train, label_train)\n",
    "results_train"
   ]
  },
  {
   "cell_type": "code",
   "execution_count": 21,
   "metadata": {},
   "outputs": [
    {
     "name": "stdout",
     "output_type": "stream",
     "text": [
      "1500/1500 [==============================] - 0s 31us/step\n"
     ]
    },
    {
     "data": {
      "text/plain": [
       "[0.24586498371760052, 0.9300000001589457]"
      ]
     },
     "execution_count": 21,
     "metadata": {},
     "output_type": "execute_result"
    }
   ],
   "source": [
    "# Print the loss and accuracy for the test set \n",
    "results_test = model.evaluate(test, label_test)\n",
    "results_test"
   ]
  },
  {
   "cell_type": "markdown",
   "metadata": {},
   "source": [
    "We can see that the training set results are really good, but the test set results lag behind. We'll talk a little more about this in the next lesson, and discuss how we can get better test set results as well!\n",
    "\n",
    "\n",
    "## Additional Resources \n",
    "\n",
    "- https://github.com/susanli2016/Machine-Learning-with-Python/blob/master/Consumer_complaints.ipynb \n",
    "- https://catalog.data.gov/dataset/consumer-complaint-database \n",
    "\n",
    "## Summary \n",
    "\n",
    "Congratulations! In this lab, you built a neural network thanks to the tools provided by Keras! In upcoming lessons and labs we'll continue to investigate further ideas regarding how to tune and refine these models for increased accuracy and performance."
   ]
  }
 ],
 "metadata": {
  "kernelspec": {
   "display_name": "Python 3",
   "language": "python",
   "name": "python3"
  },
  "language_info": {
   "codemirror_mode": {
    "name": "ipython",
    "version": 3
   },
   "file_extension": ".py",
   "mimetype": "text/x-python",
   "name": "python",
   "nbconvert_exporter": "python",
   "pygments_lexer": "ipython3",
   "version": "3.6.9"
  },
  "nbTranslate": {
   "displayLangs": [
    "*"
   ],
   "hotkey": "alt-t",
   "langInMainMenu": true,
   "sourceLang": "en",
   "targetLang": "fr",
   "useGoogleTranslate": true
  },
  "toc": {
   "base_numbering": 1,
   "nav_menu": {},
   "number_sections": true,
   "sideBar": true,
   "skip_h1_title": false,
   "title_cell": "Table of Contents",
   "title_sidebar": "Contents",
   "toc_cell": false,
   "toc_position": {},
   "toc_section_display": true,
   "toc_window_display": false
  }
 },
 "nbformat": 4,
 "nbformat_minor": 2
}
